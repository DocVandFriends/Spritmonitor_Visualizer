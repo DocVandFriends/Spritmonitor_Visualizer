{
 "cells": [
  {
   "cell_type": "code",
   "execution_count": 1,
   "metadata": {},
   "outputs": [],
   "source": [
    "import requests\n",
    "import os\n",
    "import json\n",
    "import login\n",
    "\n",
    "SM_API_URL = \"https://api.spritmonitor.de/v1\"\n",
    "\n",
    "# To set your enviornment variables in your terminal run the following line:\n",
    "# export 'BEARER_TOKEN'='<your_bearer_token>'\n",
    "# export 'APP_TOKEN'='<your_app_token>'\n",
    "bearer_token = login.bearer_token\n",
    "app_token = login.app_token\n",
    "\n",
    "def bearer_auth(r):\n",
    "    \"\"\"\n",
    "    Set authorization header\n",
    "    \"\"\"\n",
    "\n",
    "    r.headers[\"Authorization\"] = f\"Bearer {bearer_token}\"\n",
    "    r.headers[\"Application-ID\"] = app_token\n",
    "    r.headers[\"User-Agent\"] = \"Python Spritmonitor API Access Example\"\n",
    "    return r\n",
    "\n",
    "def connect_to_sm_rest(url):\n",
    "    \"\"\"\n",
    "    Send request to Spritmonitor REST endpoint\n",
    "    \"\"\"\n",
    "    respose = requests.request(\"GET\", url, auth=bearer_auth)\n",
    "    if respose.status_code != 200:\n",
    "        raise Exception(\n",
    "            \"Request returned an error: {} {}\".format(\n",
    "                respose.status_code, respose.text\n",
    "            )\n",
    "        )\n",
    "    return respose.json()\n",
    "\n",
    "def get_vehicles():\n",
    "    \"\"\"\n",
    "    Retrieve all vehicles from user\n",
    "    \"\"\"\n",
    "    url = f\"{SM_API_URL}/vehicles.json\"\n",
    "    vehicles = connect_to_sm_rest(url)\n",
    "    return vehicles\n",
    "\n",
    "def get_tanks(vehicle_id):\n",
    "    \"\"\"\n",
    "    Retrieve tanks from vehicle with given id\n",
    "    \"\"\"\n",
    "    url = f\"{SM_API_URL}/vehicle/{vehicle_id}/tanks.json\"\n",
    "    tanks = connect_to_sm_rest(url)\n",
    "    return tanks\n",
    "\n",
    "def main():\n",
    "    vehicles = get_vehicles()\n",
    "    for vehicle in vehicles:\n",
    "        tanks = get_tanks(vehicle['id'])\n",
    "        print(json.dumps(vehicle, indent=4, sort_keys=True))\n",
    "        print(json.dumps(tanks, indent=4, sort_keys=True))"
   ]
  },
  {
   "cell_type": "code",
   "execution_count": 2,
   "metadata": {},
   "outputs": [
    {
     "ename": "Exception",
     "evalue": "Request returned an error: 403 Invalid application identifier",
     "output_type": "error",
     "traceback": [
      "\u001b[0;31m---------------------------------------------------------------------------\u001b[0m",
      "\u001b[0;31mException\u001b[0m                                 Traceback (most recent call last)",
      "\u001b[1;32m/media/felix/DATEN/Dokumente/IoT_Coding/Projekte/Spritmonitor_Visualizer/src/dev.ipynb Cell 2\u001b[0m line \u001b[0;36m1\n\u001b[0;32m----> <a href='vscode-notebook-cell:/media/felix/DATEN/Dokumente/IoT_Coding/Projekte/Spritmonitor_Visualizer/src/dev.ipynb#W4sZmlsZQ%3D%3D?line=0'>1</a>\u001b[0m main()\n",
      "\u001b[1;32m/media/felix/DATEN/Dokumente/IoT_Coding/Projekte/Spritmonitor_Visualizer/src/dev.ipynb Cell 2\u001b[0m line \u001b[0;36m5\n\u001b[1;32m     <a href='vscode-notebook-cell:/media/felix/DATEN/Dokumente/IoT_Coding/Projekte/Spritmonitor_Visualizer/src/dev.ipynb#W4sZmlsZQ%3D%3D?line=52'>53</a>\u001b[0m \u001b[39mdef\u001b[39;00m \u001b[39mmain\u001b[39m():\n\u001b[0;32m---> <a href='vscode-notebook-cell:/media/felix/DATEN/Dokumente/IoT_Coding/Projekte/Spritmonitor_Visualizer/src/dev.ipynb#W4sZmlsZQ%3D%3D?line=53'>54</a>\u001b[0m     vehicles \u001b[39m=\u001b[39m get_vehicles()\n\u001b[1;32m     <a href='vscode-notebook-cell:/media/felix/DATEN/Dokumente/IoT_Coding/Projekte/Spritmonitor_Visualizer/src/dev.ipynb#W4sZmlsZQ%3D%3D?line=54'>55</a>\u001b[0m     \u001b[39mfor\u001b[39;00m vehicle \u001b[39min\u001b[39;00m vehicles:\n\u001b[1;32m     <a href='vscode-notebook-cell:/media/felix/DATEN/Dokumente/IoT_Coding/Projekte/Spritmonitor_Visualizer/src/dev.ipynb#W4sZmlsZQ%3D%3D?line=55'>56</a>\u001b[0m         tanks \u001b[39m=\u001b[39m get_tanks(vehicle[\u001b[39m'\u001b[39m\u001b[39mid\u001b[39m\u001b[39m'\u001b[39m])\n",
      "\u001b[1;32m/media/felix/DATEN/Dokumente/IoT_Coding/Projekte/Spritmonitor_Visualizer/src/dev.ipynb Cell 2\u001b[0m line \u001b[0;36m4\n\u001b[1;32m     <a href='vscode-notebook-cell:/media/felix/DATEN/Dokumente/IoT_Coding/Projekte/Spritmonitor_Visualizer/src/dev.ipynb#W4sZmlsZQ%3D%3D?line=37'>38</a>\u001b[0m \u001b[39m\u001b[39m\u001b[39m\"\"\"\u001b[39;00m\n\u001b[1;32m     <a href='vscode-notebook-cell:/media/felix/DATEN/Dokumente/IoT_Coding/Projekte/Spritmonitor_Visualizer/src/dev.ipynb#W4sZmlsZQ%3D%3D?line=38'>39</a>\u001b[0m \u001b[39mRetrieve all vehicles from user\u001b[39;00m\n\u001b[1;32m     <a href='vscode-notebook-cell:/media/felix/DATEN/Dokumente/IoT_Coding/Projekte/Spritmonitor_Visualizer/src/dev.ipynb#W4sZmlsZQ%3D%3D?line=39'>40</a>\u001b[0m \u001b[39m\"\"\"\u001b[39;00m\n\u001b[1;32m     <a href='vscode-notebook-cell:/media/felix/DATEN/Dokumente/IoT_Coding/Projekte/Spritmonitor_Visualizer/src/dev.ipynb#W4sZmlsZQ%3D%3D?line=40'>41</a>\u001b[0m url \u001b[39m=\u001b[39m \u001b[39mf\u001b[39m\u001b[39m\"\u001b[39m\u001b[39m{\u001b[39;00mSM_API_URL\u001b[39m}\u001b[39;00m\u001b[39m/vehicles.json\u001b[39m\u001b[39m\"\u001b[39m\n\u001b[0;32m---> <a href='vscode-notebook-cell:/media/felix/DATEN/Dokumente/IoT_Coding/Projekte/Spritmonitor_Visualizer/src/dev.ipynb#W4sZmlsZQ%3D%3D?line=41'>42</a>\u001b[0m vehicles \u001b[39m=\u001b[39m connect_to_sm_rest(url)\n\u001b[1;32m     <a href='vscode-notebook-cell:/media/felix/DATEN/Dokumente/IoT_Coding/Projekte/Spritmonitor_Visualizer/src/dev.ipynb#W4sZmlsZQ%3D%3D?line=42'>43</a>\u001b[0m \u001b[39mreturn\u001b[39;00m vehicles\n",
      "\u001b[1;32m/media/felix/DATEN/Dokumente/IoT_Coding/Projekte/Spritmonitor_Visualizer/src/dev.ipynb Cell 2\u001b[0m line \u001b[0;36m3\n\u001b[1;32m     <a href='vscode-notebook-cell:/media/felix/DATEN/Dokumente/IoT_Coding/Projekte/Spritmonitor_Visualizer/src/dev.ipynb#W4sZmlsZQ%3D%3D?line=27'>28</a>\u001b[0m respose \u001b[39m=\u001b[39m requests\u001b[39m.\u001b[39mrequest(\u001b[39m\"\u001b[39m\u001b[39mGET\u001b[39m\u001b[39m\"\u001b[39m, url, auth\u001b[39m=\u001b[39mbearer_auth)\n\u001b[1;32m     <a href='vscode-notebook-cell:/media/felix/DATEN/Dokumente/IoT_Coding/Projekte/Spritmonitor_Visualizer/src/dev.ipynb#W4sZmlsZQ%3D%3D?line=28'>29</a>\u001b[0m \u001b[39mif\u001b[39;00m respose\u001b[39m.\u001b[39mstatus_code \u001b[39m!=\u001b[39m \u001b[39m200\u001b[39m:\n\u001b[0;32m---> <a href='vscode-notebook-cell:/media/felix/DATEN/Dokumente/IoT_Coding/Projekte/Spritmonitor_Visualizer/src/dev.ipynb#W4sZmlsZQ%3D%3D?line=29'>30</a>\u001b[0m     \u001b[39mraise\u001b[39;00m \u001b[39mException\u001b[39;00m(\n\u001b[1;32m     <a href='vscode-notebook-cell:/media/felix/DATEN/Dokumente/IoT_Coding/Projekte/Spritmonitor_Visualizer/src/dev.ipynb#W4sZmlsZQ%3D%3D?line=30'>31</a>\u001b[0m         \u001b[39m\"\u001b[39m\u001b[39mRequest returned an error: \u001b[39m\u001b[39m{}\u001b[39;00m\u001b[39m \u001b[39m\u001b[39m{}\u001b[39;00m\u001b[39m\"\u001b[39m\u001b[39m.\u001b[39mformat(\n\u001b[1;32m     <a href='vscode-notebook-cell:/media/felix/DATEN/Dokumente/IoT_Coding/Projekte/Spritmonitor_Visualizer/src/dev.ipynb#W4sZmlsZQ%3D%3D?line=31'>32</a>\u001b[0m             respose\u001b[39m.\u001b[39mstatus_code, respose\u001b[39m.\u001b[39mtext\n\u001b[1;32m     <a href='vscode-notebook-cell:/media/felix/DATEN/Dokumente/IoT_Coding/Projekte/Spritmonitor_Visualizer/src/dev.ipynb#W4sZmlsZQ%3D%3D?line=32'>33</a>\u001b[0m         )\n\u001b[1;32m     <a href='vscode-notebook-cell:/media/felix/DATEN/Dokumente/IoT_Coding/Projekte/Spritmonitor_Visualizer/src/dev.ipynb#W4sZmlsZQ%3D%3D?line=33'>34</a>\u001b[0m     )\n\u001b[1;32m     <a href='vscode-notebook-cell:/media/felix/DATEN/Dokumente/IoT_Coding/Projekte/Spritmonitor_Visualizer/src/dev.ipynb#W4sZmlsZQ%3D%3D?line=34'>35</a>\u001b[0m \u001b[39mreturn\u001b[39;00m respose\u001b[39m.\u001b[39mjson()\n",
      "\u001b[0;31mException\u001b[0m: Request returned an error: 403 Invalid application identifier"
     ]
    }
   ],
   "source": [
    "main()"
   ]
  },
  {
   "cell_type": "code",
   "execution_count": null,
   "metadata": {},
   "outputs": [],
   "source": []
  }
 ],
 "metadata": {
  "kernelspec": {
   "display_name": ".venv",
   "language": "python",
   "name": "python3"
  },
  "language_info": {
   "codemirror_mode": {
    "name": "ipython",
    "version": 3
   },
   "file_extension": ".py",
   "mimetype": "text/x-python",
   "name": "python",
   "nbconvert_exporter": "python",
   "pygments_lexer": "ipython3",
   "version": "3.11.3"
  }
 },
 "nbformat": 4,
 "nbformat_minor": 2
}
